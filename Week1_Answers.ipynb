{
 "cells": [
  {
   "cell_type": "markdown",
   "id": "e40bad63-ff6c-4e05-be1a-2aad8ce71843",
   "metadata": {},
   "source": [
    "# Data Analytics: Assignment 1 (DRAFT)\n",
    "##### by Daphne Lyra Surigao and Kim Andre Mauring\n",
    "---\n",
    "This notebook implements a simplified version of the procedures described in *Balanced Risk Set Matching* by Yunfei Paul Li, Kathleen J. Propert, and Paul R. Rosenbaum. Balanced Risk Set Matching is a statistical method used in observational studies to match treated and control subjects while ensuring covariate balance. By pairing patients with similar symptom histories before treatment, this method helps mitigate bias in non-randomized studies. This notebook will generate synthetic patient data, apply risk set matching using Mahalanobis distance, and analyze the quality of matching through visualization techniques."
   ]
  },
  {
   "cell_type": "code",
   "execution_count": 30,
   "id": "475ad85f-33f5-44d3-87e5-9f45ce134ab3",
   "metadata": {},
   "outputs": [],
   "source": [
    "import numpy as np\n",
    "import pandas as pd\n",
    "import seaborn as sns\n",
    "import matplotlib.pyplot as plt\n",
    "from scipy.spatial.distance import mahalanobis\n",
    "from scipy.stats import zscore"
   ]
  },
  {
   "cell_type": "markdown",
   "id": "3ea79275-65d2-472d-bdc3-24456569c655",
   "metadata": {},
   "source": [
    "### Step 1: Simulating Patient Data"
   ]
  },
  {
   "cell_type": "code",
   "execution_count": 25,
   "id": "ef08723a-4b51-4bb5-99aa-d42b41c0177f",
   "metadata": {},
   "outputs": [
    {
     "data": {
      "text/html": [
       "<div>\n",
       "<style scoped>\n",
       "    .dataframe tbody tr th:only-of-type {\n",
       "        vertical-align: middle;\n",
       "    }\n",
       "\n",
       "    .dataframe tbody tr th {\n",
       "        vertical-align: top;\n",
       "    }\n",
       "\n",
       "    .dataframe thead th {\n",
       "        text-align: right;\n",
       "    }\n",
       "</style>\n",
       "<table border=\"1\" class=\"dataframe\">\n",
       "  <thead>\n",
       "    <tr style=\"text-align: right;\">\n",
       "      <th></th>\n",
       "      <th>patient_id</th>\n",
       "      <th>entry_time</th>\n",
       "      <th>pain</th>\n",
       "      <th>urgency</th>\n",
       "      <th>nocturnal_frequency</th>\n",
       "      <th>treated</th>\n",
       "      <th>treatment_time</th>\n",
       "    </tr>\n",
       "  </thead>\n",
       "  <tbody>\n",
       "    <tr>\n",
       "      <th>0</th>\n",
       "      <td>1</td>\n",
       "      <td>6</td>\n",
       "      <td>0</td>\n",
       "      <td>1</td>\n",
       "      <td>7</td>\n",
       "      <td>0</td>\n",
       "      <td>NaN</td>\n",
       "    </tr>\n",
       "    <tr>\n",
       "      <th>1</th>\n",
       "      <td>2</td>\n",
       "      <td>3</td>\n",
       "      <td>8</td>\n",
       "      <td>5</td>\n",
       "      <td>7</td>\n",
       "      <td>1</td>\n",
       "      <td>10.0</td>\n",
       "    </tr>\n",
       "    <tr>\n",
       "      <th>2</th>\n",
       "      <td>3</td>\n",
       "      <td>10</td>\n",
       "      <td>5</td>\n",
       "      <td>4</td>\n",
       "      <td>3</td>\n",
       "      <td>0</td>\n",
       "      <td>NaN</td>\n",
       "    </tr>\n",
       "    <tr>\n",
       "      <th>3</th>\n",
       "      <td>4</td>\n",
       "      <td>7</td>\n",
       "      <td>6</td>\n",
       "      <td>1</td>\n",
       "      <td>3</td>\n",
       "      <td>0</td>\n",
       "      <td>NaN</td>\n",
       "    </tr>\n",
       "    <tr>\n",
       "      <th>4</th>\n",
       "      <td>5</td>\n",
       "      <td>4</td>\n",
       "      <td>9</td>\n",
       "      <td>2</td>\n",
       "      <td>4</td>\n",
       "      <td>0</td>\n",
       "      <td>NaN</td>\n",
       "    </tr>\n",
       "  </tbody>\n",
       "</table>\n",
       "</div>"
      ],
      "text/plain": [
       "   patient_id  entry_time  pain  urgency  nocturnal_frequency  treated  \\\n",
       "0           1           6     0        1                    7        0   \n",
       "1           2           3     8        5                    7        1   \n",
       "2           3          10     5        4                    3        0   \n",
       "3           4           7     6        1                    3        0   \n",
       "4           5           4     9        2                    4        0   \n",
       "\n",
       "   treatment_time  \n",
       "0             NaN  \n",
       "1            10.0  \n",
       "2             NaN  \n",
       "3             NaN  \n",
       "4             NaN  "
      ]
     },
     "execution_count": 25,
     "metadata": {},
     "output_type": "execute_result"
    }
   ],
   "source": [
    "# Set random seed for reproducibility\n",
    "np.random.seed(42)\n",
    "\n",
    "# Initialize number of patients. In this case 400\n",
    "num_patients = 400\n",
    "\n",
    "# Create synthetic patient dataset\n",
    "patient_data = pd.DataFrame({\n",
    "    'patient_id': np.arange(1, num_patients + 1),\n",
    "    'entry_time': np.random.randint(0, 12, num_patients),  \n",
    "    'pain': np.random.randint(0, 10, num_patients),\n",
    "    'urgency': np.random.randint(0, 10, num_patients),\n",
    "    'nocturnal_frequency': np.random.randint(0, 10, num_patients),\n",
    "    'treated': np.random.choice([0, 1], num_patients, p=[0.7, 0.3]),  \n",
    "    'treatment_time': np.random.randint(3, 24, num_patients) \n",
    "})\n",
    "\n",
    "# Ensure untreated patients have no treatment time\n",
    "patient_data.loc[patient_data['treated'] == 0, 'treatment_time'] = np.nan\n",
    "\n",
    "# Display first few rows\n",
    "patient_data.head()"
   ]
  },
  {
   "cell_type": "markdown",
   "id": "0d2308f3-e4ad-4ef3-a82a-4a3caaab43ad",
   "metadata": {},
   "source": [
    "### Step 2: Normalizing Data and Computing Mahalanobis Distance"
   ]
  },
  {
   "cell_type": "code",
   "execution_count": 22,
   "id": "0fcb3559-344b-47ae-843e-0ae714b30207",
   "metadata": {},
   "outputs": [],
   "source": [
    "\"\"\"\"\n",
    "To match patients, we compute Mahalanobis distance, which measures the similarity between patients.\n",
    "\"\"\"\n",
    "\n",
    "# Normalize symptom data for fair comparison\n",
    "patient_data[['pain', 'urgency', 'nocturnal_frequency']] = patient_data[['pain', 'urgency', 'nocturnal_frequency']].apply(zscore)\n",
    "\n",
    "# Compute covariance matrix (for Mahalanobis distance)\n",
    "cov_matrix = np.cov(patient_data[['pain', 'urgency', 'nocturnal_frequency']].dropna().T)\n",
    "inv_cov_matrix = np.linalg.inv(cov_matrix)\n",
    "\n",
    "def find_best_match(treated_patient, control_patients):\n",
    "    \"\"\"Find the control patient with the minimum Mahalanobis distance to the treated patient.\"\"\"\n",
    "    best_match = None\n",
    "    min_distance = float('inf')\n",
    "    \n",
    "    for _, control in control_patients.iterrows():\n",
    "        distance = mahalanobis(\n",
    "            treated_patient[['pain', 'urgency', 'nocturnal_frequency']], \n",
    "            control[['pain', 'urgency', 'nocturnal_frequency']], \n",
    "            inv_cov_matrix\n",
    "        )\n",
    "        if distance < min_distance:\n",
    "            min_distance = distance\n",
    "            best_match = control\n",
    "\n",
    "    return best_match"
   ]
  },
  {
   "cell_type": "markdown",
   "id": "ab90c82a-4512-45b0-9274-57f98f7e12fd",
   "metadata": {},
   "source": [
    "### Step 3: Implementing Risk Set Matching"
   ]
  },
  {
   "cell_type": "code",
   "execution_count": 26,
   "id": "939387ff-641f-432f-9a07-891ce8125530",
   "metadata": {},
   "outputs": [
    {
     "data": {
      "text/html": [
       "<div>\n",
       "<style scoped>\n",
       "    .dataframe tbody tr th:only-of-type {\n",
       "        vertical-align: middle;\n",
       "    }\n",
       "\n",
       "    .dataframe tbody tr th {\n",
       "        vertical-align: top;\n",
       "    }\n",
       "\n",
       "    .dataframe thead th {\n",
       "        text-align: right;\n",
       "    }\n",
       "</style>\n",
       "<table border=\"1\" class=\"dataframe\">\n",
       "  <thead>\n",
       "    <tr style=\"text-align: right;\">\n",
       "      <th></th>\n",
       "      <th>treated_patient</th>\n",
       "      <th>control_patient</th>\n",
       "    </tr>\n",
       "  </thead>\n",
       "  <tbody>\n",
       "    <tr>\n",
       "      <th>0</th>\n",
       "      <td>2.0</td>\n",
       "      <td>171.0</td>\n",
       "    </tr>\n",
       "    <tr>\n",
       "      <th>1</th>\n",
       "      <td>6.0</td>\n",
       "      <td>39.0</td>\n",
       "    </tr>\n",
       "    <tr>\n",
       "      <th>2</th>\n",
       "      <td>13.0</td>\n",
       "      <td>394.0</td>\n",
       "    </tr>\n",
       "    <tr>\n",
       "      <th>3</th>\n",
       "      <td>16.0</td>\n",
       "      <td>189.0</td>\n",
       "    </tr>\n",
       "    <tr>\n",
       "      <th>4</th>\n",
       "      <td>21.0</td>\n",
       "      <td>361.0</td>\n",
       "    </tr>\n",
       "  </tbody>\n",
       "</table>\n",
       "</div>"
      ],
      "text/plain": [
       "   treated_patient  control_patient\n",
       "0              2.0            171.0\n",
       "1              6.0             39.0\n",
       "2             13.0            394.0\n",
       "3             16.0            189.0\n",
       "4             21.0            361.0"
      ]
     },
     "execution_count": 26,
     "metadata": {},
     "output_type": "execute_result"
    }
   ],
   "source": [
    "\"\"\"\n",
    "We iterate through treated patients and find their best-matched control patient.\n",
    "\"\"\"\n",
    "\n",
    "# Create an empty list for matched pairs\n",
    "matched_pairs = []\n",
    "\n",
    "# Iterate through each treated patient\n",
    "for _, treated in patient_data[patient_data['treated'] == 1].iterrows():\n",
    "    # Find all eligible controls (not treated before this patient's treatment time)\n",
    "    eligible_controls = patient_data[(patient_data['treated'] == 0) & \n",
    "                                     (patient_data['entry_time'] <= treated['treatment_time'])]\n",
    "    \n",
    "    # Find best match based on Mahalanobis distance\n",
    "    match = find_best_match(treated, eligible_controls)\n",
    "    \n",
    "    if match is not None:\n",
    "        matched_pairs.append((treated['patient_id'], match['patient_id']))\n",
    "\n",
    "# Convert matched pairs to a DataFrame\n",
    "matched_df = pd.DataFrame(matched_pairs, columns=['treated_patient', 'control_patient'])\n",
    "matched_df.head()"
   ]
  },
  {
   "cell_type": "markdown",
   "id": "67a141db-093e-40d7-8ec6-65ec86737aa1",
   "metadata": {},
   "source": [
    "### Step 4: Checking Covariate Balance"
   ]
  },
  {
   "cell_type": "code",
   "execution_count": 27,
   "id": "a7abc3e0-b789-44db-a5d2-db24f485c5e4",
   "metadata": {},
   "outputs": [
    {
     "data": {
      "image/png": "[encoded data removed]",
      "text/plain": [
       "<Figure size 1500x500 with 3 Axes>"
      ]
     },
     "metadata": {},
     "output_type": "display_data"
    }
   ],
   "source": [
    "\"\"\"\n",
    "We visualize symptom distributions before and after matching.\n",
    "\"\"\"\n",
    "\n",
    "# Merge matched patients' data\n",
    "matched_data = matched_df.merge(patient_data, left_on='treated_patient', right_on='patient_id')\n",
    "matched_data = matched_data.merge(patient_data, left_on='control_patient', right_on='patient_id', suffixes=('_treated', '_control'))\n",
    "\n",
    "# Compare distributions\n",
    "fig, axes = plt.subplots(1, 3, figsize=(15, 5))\n",
    "\n",
    "for i, symptom in enumerate(['pain', 'urgency', 'nocturnal_frequency']):\n",
    "    sns.histplot(matched_data[f\"{symptom}_treated\"], color=\"blue\", label=\"Treated\", kde=True, ax=axes[i])\n",
    "    sns.histplot(matched_data[f\"{symptom}_control\"], color=\"red\", label=\"Control\", kde=True, ax=axes[i])\n",
    "    axes[i].set_title(f\"Distribution of {symptom}\")\n",
    "    axes[i].legend()\n",
    "\n",
    "plt.show()"
   ]
  },
  {
   "cell_type": "markdown",
   "id": "e1caf2de-3fda-49d6-ab29-d9e2887b9758",
   "metadata": {},
   "source": [
    "### Step 5: Sensitivity Analysis (Handling Hidden Bias)"
   ]
  },
  {
   "cell_type": "code",
   "execution_count": 29,
   "id": "40c613a4-7ce0-4cb9-9626-61dc6f0671bd",
   "metadata": {},
   "outputs": [],
   "source": [
    "\"\"\"\n",
    "We introduce a hidden bias variable to test how much it affects the matching results.\n",
    "\"\"\"\n",
    "\n",
    "# Add an unobserved bias variable\n",
    "patient_data['hidden_bias'] = np.random.randint(0, 5, num_patients)\n",
    "\n",
    "# Repeat matching with hidden bias added to symptoms\n",
    "patient_data[['pain', 'urgency', 'nocturnal_frequency']] += patient_data['hidden_bias'].apply(lambda x: x * 0.1)"
   ]
  },
  {
   "cell_type": "code",
   "execution_count": null,
   "id": "10d69193-3778-401a-b0e0-b97b738c9bf0",
   "metadata": {},
   "outputs": [],
   "source": []
  }
 ],
 "metadata": {
  "kernelspec": {
   "display_name": "Python 3 (ipykernel)",
   "language": "python",
   "name": "python3"
  },
  "language_info": {
   "codemirror_mode": {
    "name": "ipython",
    "version": 3
   },
   "file_extension": ".py",
   "mimetype": "text/x-python",
   "name": "python",
   "nbconvert_exporter": "python",
   "pygments_lexer": "ipython3",
   "version": "3.13.2"
  }
 },
 "nbformat": 4,
 "nbformat_minor": 5
}
